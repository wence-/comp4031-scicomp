{
 "cells": [
  {
   "cell_type": "markdown",
   "metadata": {},
   "source": [
    "# More on finite differences\n",
    "\n",
    "## Matrix representation of operators\n",
    "\n",
    "We saw briefly that we can represent finite difference operators as matrices. Let's look at this in a bit more detail.\n",
    "\n",
    "To do this, we need to provide an ordering of all of the degrees of freedom (dofs) in our finite difference discretisation. In one dimension, we order the points in the domain from left to right and use a single index:\n",
    "\n",
    "$$\n",
    "x_0 < x_1 < \\dots < x_{n-1}\n",
    "$$\n",
    "\n",
    "and so we have a single index for all the points $i = [0, 1, \\dots, n-1]$. We can therefore represent our function $u(x)$ discretised at the points $\\{x_i\\}$ as a vector in $\\mathbb{R}^n$\n",
    "\n",
    "$$\n",
    "U = \\begin{bmatrix} u_0 \\\\ u_1 \\\\ \\vdots \\\\ u_{n-1} \\end{bmatrix}\n",
    "$$\n",
    "\n",
    "and similarly with the right hand side $f(x)$. The differencing operators *combine* entries from $U$ linearly to produce a new vector $D U$. Since this operation is linear, we can represent it as a matrix\n",
    "\n",
    "$$\n",
    "D : \\mathbb{R}^n \\to \\mathbb{R}^n\n",
    "$$\n",
    "\n",
    "which takes in a vector $U$ and spits out a new vector representing the action of the differencing operator on $U$.\n",
    "\n",
    "For example, the left-looking operator $D_- u_i = \\frac{u_i - u_{i-1}}{h}$ uses, at each point $i$ values from points $i$ and $i-1$. On a grid with 4 points, this can be represented as the matrix\n",
    "\n",
    "$$\n",
    "D_- = \\frac{1}{h}\n",
    "\\begin{bmatrix}\n",
    "1 & 0 & 0 & 0\\\\\n",
    "-1 & 1 & 0 & 0\\\\\n",
    "0 & -1 & 1 & 0\\\\\n",
    "0 & 0 & -1 & 1\n",
    "\\end{bmatrix}.\n",
    "$$\n",
    "\n",
    "Similarly, the centered difference approximation of $\\frac{\\text{d}^2}{\\text{d} x^2}$, $D^2 u_i = \\frac{u_{i+1} - 2u_i + u_{i-1}}{h^2}$ can be written\n",
    "\n",
    "$$\n",
    "D^2 = \\frac{1}{h^2}\n",
    "\\begin{bmatrix}\n",
    "-2 & 1 & 0 & 0\\\\\n",
    "1 & -2 & 1 & 0\\\\\n",
    "0 & 1 & -2 & 1\\\\\n",
    "0 & 0 & 1 & -2\n",
    "\\end{bmatrix}.\n",
    "$$\n",
    "\n",
    "### \"Matrix-free\" implementation\n",
    "\n",
    "If we only never need to apply the differencing operator, it might make sense (memory or efficiency, for example) to just provide a function which computes the matrix-vector multiplication without storing the matrix. Let's see this in action."
   ]
  },
  {
   "cell_type": "code",
   "execution_count": null,
   "metadata": {},
   "outputs": [],
   "source": [
    "%matplotlib notebook\n",
    "import numpy\n",
    "\n",
    "def dminus(u, h):\n",
    "    n, = u.shape\n",
    "    du = numpy.zeros_like(u)\n",
    "    for i in range(n):\n",
    "        if i == 0:\n",
    "            du[i] = 1/h * u[i]\n",
    "        else:\n",
    "            du[i] = 1/h * (u[i] - u[i-1])\n",
    "    return du\n",
    "\n",
    "def dminusop(u, h):\n",
    "    n, = u.shape\n",
    "    D = numpy.eye(n) - numpy.diag(numpy.full(n-1, 1), k=-1)\n",
    "    D *= 1/h\n",
    "    return D"
   ]
  },
  {
   "cell_type": "code",
   "execution_count": null,
   "metadata": {},
   "outputs": [],
   "source": [
    "n = 10\n",
    "u = numpy.random.rand(n)\n",
    "h = 1/n\n",
    "dminus(u, h)"
   ]
  },
  {
   "cell_type": "code",
   "execution_count": null,
   "metadata": {},
   "outputs": [],
   "source": [
    "D = dminusop(u, h)"
   ]
  },
  {
   "cell_type": "code",
   "execution_count": null,
   "metadata": {},
   "outputs": [],
   "source": [
    "D @ u"
   ]
  },
  {
   "cell_type": "markdown",
   "metadata": {},
   "source": [
    "## 2D finite differences\n",
    "### Indexing matrix representation in 2D\n",
    "### Sparse matrices\n",
    "\n",
    "## CFL conditions"
   ]
  },
  {
   "cell_type": "code",
   "execution_count": null,
   "metadata": {},
   "outputs": [],
   "source": []
  }
 ],
 "metadata": {
  "kernelspec": {
   "display_name": "Python 3",
   "language": "python",
   "name": "python3"
  },
  "language_info": {
   "codemirror_mode": {
    "name": "ipython",
    "version": 3
   },
   "file_extension": ".py",
   "mimetype": "text/x-python",
   "name": "python",
   "nbconvert_exporter": "python",
   "pygments_lexer": "ipython3",
   "version": "3.6.7"
  }
 },
 "nbformat": 4,
 "nbformat_minor": 2
}

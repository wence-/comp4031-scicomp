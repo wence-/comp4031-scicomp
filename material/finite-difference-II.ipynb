{
 "cells": [
  {
   "cell_type": "markdown",
   "metadata": {},
   "source": [
    "## Matrix representation of operators\n",
    "\n",
    "We saw briefly that we can represent finite difference operators as matrices. Let's look at this in a bit more detail.\n",
    "\n",
    "To do this, we need to provide an ordering of all of the degrees of freedom (dofs) in our finite difference discretisation. In one dimension, we order the points in the domain from left to right and use a single index:\n",
    "\n",
    "$$\n",
    "x_0 < x_1 < \\dots < x_{n-1}\n",
    "$$\n",
    "\n",
    "and so we have a single index for all the points $i = [0, 1, \\dots, n-1]$. We can therefore represent our function $u(x)$ discretised at the points $\\{x_i\\}$ as a vector in $\\mathbb{R}^n$\n",
    "\n",
    "$$\n",
    "U = \\begin{bmatrix} u_0 \\\\ u_1 \\\\ \\vdots \\\\ u_{n-1} \\end{bmatrix}\n",
    "$$\n",
    "\n",
    "and similarly with the right hand side $f(x)$. The differencing operators *combine* entries from $U$ linearly to produce a new vector $D U$. Since this operation is linear, we can represent it as a matrix\n",
    "\n",
    "$$\n",
    "D : \\mathbb{R}^n \\to \\mathbb{R}^n\n",
    "$$\n",
    "\n",
    "which takes in a vector $U$ and spits out a new vector representing the action of the differencing operator on $U$.\n",
    "\n",
    "For example, the left-looking operator $D_- u_i = \\frac{u_i - u_{i-1}}{h}$ uses, at each point $i$ values from points $i$ and $i-1$. On a grid with 4 points, this can be represented as the matrix\n",
    "\n",
    "$$\n",
    "D_- = \\frac{1}{h}\n",
    "\\begin{bmatrix}\n",
    "1 & 0 & 0 & 0\\\\\n",
    "-1 & 1 & 0 & 0\\\\\n",
    "0 & -1 & 1 & 0\\\\\n",
    "0 & 0 & -1 & 1\n",
    "\\end{bmatrix}.\n",
    "$$\n",
    "\n",
    "Similarly, the centered difference approximation of $\\frac{\\text{d}^2}{\\text{d} x^2}$, $D^2 u_i = \\frac{u_{i+1} - 2u_i + u_{i-1}}{h^2}$ can be written\n",
    "\n",
    "$$\n",
    "D^2 = \\frac{1}{h^2}\n",
    "\\begin{bmatrix}\n",
    "-2 & 1 & 0 & 0\\\\\n",
    "1 & -2 & 1 & 0\\\\\n",
    "0 & 1 & -2 & 1\\\\\n",
    "0 & 0 & 1 & -2\n",
    "\\end{bmatrix}.\n",
    "$$\n",
    "\n",
    "### \"Matrix-free\" implementation\n",
    "\n",
    "If we only never need to apply the differencing operator, it might make sense (memory or efficiency, for example) to just provide a function which computes the matrix-vector multiplication without storing the matrix. Let's see this in action."
   ]
  },
  {
   "cell_type": "code",
   "execution_count": null,
   "metadata": {},
   "outputs": [],
   "source": [
    "%matplotlib notebook\n",
    "from matplotlib import pyplot\n",
    "import numpy\n",
    "\n",
    "def dminus(u, h):\n",
    "    n, = u.shape\n",
    "    du = numpy.zeros_like(u)\n",
    "    for i in range(n):\n",
    "        if i == 0:\n",
    "            du[i] = 1/h * u[i]\n",
    "        else:\n",
    "            du[i] = 1/h * (u[i] - u[i-1])\n",
    "    return du\n",
    "\n",
    "def dminusop(u, h):\n",
    "    n, = u.shape\n",
    "    D = numpy.eye(n) - numpy.diag(numpy.full(n-1, 1), k=-1)\n",
    "    D *= 1/h\n",
    "    return D"
   ]
  },
  {
   "cell_type": "code",
   "execution_count": null,
   "metadata": {},
   "outputs": [],
   "source": [
    "n = 10\n",
    "u = numpy.random.rand(n)\n",
    "h = 1/n\n",
    "dminus(u, h)"
   ]
  },
  {
   "cell_type": "code",
   "execution_count": null,
   "metadata": {},
   "outputs": [],
   "source": [
    "D = dminusop(u, h)"
   ]
  },
  {
   "cell_type": "code",
   "execution_count": null,
   "metadata": {},
   "outputs": [],
   "source": [
    "D @ u"
   ]
  },
  {
   "cell_type": "code",
   "execution_count": null,
   "metadata": {},
   "outputs": [],
   "source": [
    "numpy.allclose(D@u, dminus(u, h))"
   ]
  },
  {
   "cell_type": "markdown",
   "metadata": {},
   "source": [
    "Which one is faster? Let's have a go with a bigger grid. We can use notebook \"magic\" `%%timeit` to time the execution of a cell."
   ]
  },
  {
   "cell_type": "code",
   "execution_count": null,
   "metadata": {},
   "outputs": [],
   "source": [
    "n = 10000\n",
    "u = numpy.random.rand(n)\n",
    "h = 1/n"
   ]
  },
  {
   "cell_type": "code",
   "execution_count": null,
   "metadata": {},
   "outputs": [],
   "source": [
    "%%timeit\n",
    "dminus(u, h)"
   ]
  },
  {
   "cell_type": "code",
   "execution_count": null,
   "metadata": {},
   "outputs": [],
   "source": [
    "D = dminusop(u, h)"
   ]
  },
  {
   "cell_type": "code",
   "execution_count": null,
   "metadata": {},
   "outputs": [],
   "source": [
    "%%timeit\n",
    "D @ u"
   ]
  },
  {
   "cell_type": "markdown",
   "metadata": {},
   "source": [
    "Perhaps surprisingly, the python loops are faster than the numpy matrix-vector product. This is likely because the numpy matrix is 10000 x 10000 and dense (and we do a lot of work multiplying by zero). We should probably use a *sparse* matrix (see below)."
   ]
  },
  {
   "cell_type": "markdown",
   "metadata": {},
   "source": [
    "We can also attempt to speed up the loop by using the Python JIT compiler [numba](https://numba.pydata.org) (available via `pip install numba`)."
   ]
  },
  {
   "cell_type": "code",
   "execution_count": null,
   "metadata": {},
   "outputs": [],
   "source": [
    "import numba\n",
    "\n",
    "@numba.jit\n",
    "def dminus_compiled(u, h):\n",
    "    n, = u.shape\n",
    "    du = numpy.zeros_like(u)\n",
    "    for i in range(n):\n",
    "        if i == 0:\n",
    "            du[i] = 1/h * u[i]\n",
    "        else:\n",
    "            du[i] = 1/h * (u[i] - u[i-1])\n",
    "    return du"
   ]
  },
  {
   "cell_type": "code",
   "execution_count": null,
   "metadata": {},
   "outputs": [],
   "source": [
    "%%timeit\n",
    "dminus_compiled(u, h)"
   ]
  },
  {
   "cell_type": "markdown",
   "metadata": {},
   "source": [
    "Nearly a 1000x speedup. This doesn't work for all functions, but if you have code with loops and numpy arrays, it's probably worth a shot."
   ]
  },
  {
   "cell_type": "markdown",
   "metadata": {},
   "source": [
    "## 2D finite differences\n",
    "\n",
    "Now, finally, let's look at finite differences in 2D. We remind ourselves of the differential operators we might encounter. Rather than just a derivative in the $x$ direction, we can take derivatives of a function in both $x$ and $y$.\n",
    "\n",
    "$$\n",
    "\\begin{aligned}\n",
    "\\partial_x u &= \\frac{\\partial u(x, y)}{\\partial x}\\\\\n",
    "\\partial_y u &= \\frac{\\partial u(x, y)}{\\partial y}\n",
    "\\end{aligned}.\n",
    "$$\n",
    "\n",
    "Often we see vector-calculus operators.\n",
    "\n",
    "### Gradient\n",
    "\n",
    "For a scalar $u(x, y)$ the 2D gradient is a vector\n",
    "\n",
    "$$\n",
    "\\nabla u(x, y) := \\begin{bmatrix} \\partial_x u \\\\ \\partial_y u \\end{bmatrix}.\n",
    "$$\n",
    "\n",
    "### Divergence\n",
    "\n",
    "For a vector $\\vec{w}(x, y) = \\begin{bmatrix} w_0 \\\\ w_1 \\end{bmatrix}$, the divergence is a scalar\n",
    "\n",
    "$$\n",
    "\\nabla \\cdot \\vec{w} = \\partial_x w_0 + \\partial_y w_1.\n",
    "$$\n",
    "\n",
    "### Laplacian\n",
    "\n",
    "For a scalar $u(x, y)$ the Laplacian is a scalar\n",
    "\n",
    "$$\n",
    "\\nabla^2 u(x, y) := \\nabla \\cdot \\nabla u(x, y) = \\partial_x^2 u + \\partial_y^2 u.\n",
    "$$\n",
    "\n",
    "### Finite difference operators\n",
    "\n",
    "As usual, we need some domain $\\Omega$ in which we will solve the problem. Given some domain, we need to choose a way of specifying it, and ordering the degrees of freedom. This is very fiddly for anything other than coordinate aligned rectangular domains (one of the major disadvantages of finite differences). As a result, all of the problems we will solve will be on squares and rectangles.\n",
    "\n",
    "Lets choose $\\Omega = (0, W) \\times (0, H)$. We'll pick $N_x$ points in the x-direction, and $N_y$ in the y-direction. We'll choose a typewriter ordering of degrees of freedom (bottom-to-top, left-to-right), so given an index $i$ in the x-direction and an index $j$ in the y-direction it represents the point\n",
    "\n",
    "$$\n",
    "(x, y) = (i h_x, j h_y)\n",
    "$$\n",
    "\n",
    "where\n",
    "\n",
    "$$\n",
    "\\begin{aligned}\n",
    "h_x &= \\frac{W}{N_x - 1}\\\\\n",
    "h_y &= \\frac{H}{N_y - 1}\\\\\n",
    "\\end{aligned}\n",
    "$$\n",
    "\n",
    "and $i \\in \\{0, N_x - 1\\}$, $j \\in \\{0, N_y - 1\\}$.\n",
    "\n",
    "We will again represent our solution vectors as 1D vectors (remembering that we should plot them in 2D).\n",
    "\n",
    "Let's write some code to encapsulate a domain and draw vectors."
   ]
  },
  {
   "cell_type": "code",
   "execution_count": null,
   "metadata": {},
   "outputs": [],
   "source": [
    "from collections import namedtuple\n",
    "Point = namedtuple(\"Point\", (\"x\", \"y\"))\n",
    "class Grid(object):\n",
    "    def __init__(self, Nx, Ny, P0, P1):\n",
    "        X0, Y0 = P0\n",
    "        X1, Y1 = P1\n",
    "        self.W = X1 - X0\n",
    "        self.H = Y1 - Y0\n",
    "        self.Nx = Nx\n",
    "        self.Ny = Ny\n",
    "        x = numpy.linspace(X0, X1, self.Nx)\n",
    "        y = numpy.linspace(Y0, Y1, self.Ny)\n",
    "        self.XY = numpy.meshgrid(x, y, indexing=\"ij\")\n",
    "        \n",
    "    @property\n",
    "    def hx(self):\n",
    "        return self.W/(self.Nx - 1)\n",
    "    \n",
    "    @property\n",
    "    def hy(self):\n",
    "        return self.H/(self.Ny - 1)\n",
    "\n",
    "    def alpha(self, i, j):\n",
    "        return i*self.Ny + j\n",
    "\n",
    "    def new_vector(self, components=1):\n",
    "        vec = numpy.zeros(self.Nx*self.Ny*components, dtype=float)\n",
    "        shape = (self.Nx, self.Ny)\n",
    "        if components > 1:\n",
    "            shape = shape + (components, )\n",
    "        return vec.reshape(shape)\n",
    "    \n",
    "    def contourf(self, u):\n",
    "        U = u.reshape(self.Nx, self.Ny)\n",
    "        pyplot.figure()\n",
    "        \n",
    "        pyplot.contourf(*self.XY, U)\n",
    "        pyplot.colorbar()\n",
    "        \n",
    "    def quiver(self, u, colour=None):\n",
    "        U = u.reshape(self.Nx, self.Ny, 2)\n",
    "        pyplot.figure()\n",
    "        if colour is None:\n",
    "            pyplot.quiver(*self.XY, U[..., 0], U[..., 1])\n",
    "        else:\n",
    "            pyplot.quiver(*self.XY, U[..., 0], U[..., 1], colour)"
   ]
  },
  {
   "cell_type": "code",
   "execution_count": null,
   "metadata": {},
   "outputs": [],
   "source": [
    "grid = Grid(17, 15, P0=Point(-2, -1), P1=Point(1, 1))"
   ]
  },
  {
   "cell_type": "code",
   "execution_count": null,
   "metadata": {},
   "outputs": [],
   "source": [
    "X, Y = grid.XY\n",
    "u = grid.new_vector(components=2)\n",
    "u[..., 0] = -Y\n",
    "u[..., 1] = X"
   ]
  },
  {
   "cell_type": "code",
   "execution_count": null,
   "metadata": {},
   "outputs": [],
   "source": [
    "grid.quiver(u)"
   ]
  },
  {
   "cell_type": "markdown",
   "metadata": {},
   "source": [
    "Notice how we return vectors that we can index with two indices (or three if we have a vector). For 2D indexing of a vector, I'll write (using roman indices):\n",
    "\n",
    "$$\n",
    "U_{i, j}\n",
    "$$\n",
    "\n",
    "to indicate the value at $(i h_x, j h_y)$.\n",
    "\n",
    "We can translate these 2D indices into a 1D index to a flat vector. I'll use greek letters for these flat indices.\n",
    "\n",
    "$$\n",
    "\\alpha(i, j) := i N_y + j\n",
    "$$"
   ]
  },
  {
   "cell_type": "markdown",
   "metadata": {},
   "source": [
    "Now let's think about solving an equation, we'll start by solving the 2D Laplacian with Dirichlet conditions.\n",
    "\n",
    "$$\n",
    "\\begin{aligned}\n",
    "-\\nabla^2 u &= f && \\text{ on }\\Omega = (0, 1) \\times (0, 1)\\\\\n",
    "         u &= g && \\text{ on }\\partial\\Omega\n",
    "\\end{aligned}\n",
    "$$\n",
    "\n",
    "We'll pick $f = 8\\pi^2\\sin(2\\pi x)\\sin(2\\pi y)$ and set $g = 0$.\n",
    "\n",
    "Since we're only doing things on axis-aligned domains, the derivatives decompose into directional derivatives, and so the 2D stencil is just the \"sum\" of the two 1D stencils for $\\partial_x^2$ and $\\partial_y^2$. Note that we must be careful to use the correct $h_x$ or $h_y$.\n",
    "\n",
    "So we have\n",
    "\n",
    "$$\n",
    "-\\nabla^2 = \\frac{1}{h_x^2} \\begin{bmatrix} & & \\\\ -1 & 2 & -1 \\\\ & & \\end{bmatrix} + \\frac{1}{h_y^2} \\begin{bmatrix} & -1 & \\\\ & 2 & \\\\ & -1 & \\end{bmatrix}.\n",
    "$$\n",
    "\n",
    "Where this stencil notation is to be understood as being laid over the 2D grid. We will come to the indexing in a moment."
   ]
  },
  {
   "cell_type": "markdown",
   "metadata": {},
   "source": [
    "### Indexing matrix representation in 2D\n",
    "### Sparse matrices\n",
    "\n",
    "## CFL conditions"
   ]
  },
  {
   "cell_type": "code",
   "execution_count": null,
   "metadata": {
    "scrolled": false
   },
   "outputs": [],
   "source": [
    "%matplotlib notebook\n",
    "import pylab as plt\n",
    "import numpy\n",
    "from matplotlib import animation, rc\n",
    "\n",
    "from IPython.display import HTML\n",
    "\n",
    "rc('animation', html='jshtml')\n",
    "\n",
    "# Generate data for plotting\n",
    "Lx = Ly = 3\n",
    "Nx = Ny = 11\n",
    "Nt = 20\n",
    "x = numpy.linspace(0, Lx, Nx)\n",
    "y = numpy.linspace(0, Ly, Ny)\n",
    "x,y = numpy.meshgrid(x,y)\n",
    "z0 = numpy.exp(-(x-Lx/2)**2-(y-Ly/2)**2)   # 2 dimensional Gaussian\n",
    "\n",
    "def some_data(i):   # function returns a 2D data array\n",
    "    return z0 * (i/Nt)\n",
    "\n",
    "fig = plt.figure()\n",
    "ax = plt.axes(xlim=(0, Lx), ylim=(0, Ly), xlabel='x', ylabel='y')\n",
    "\n",
    "cvals = numpy.linspace(0,1,Nt+1)      # set contour values \n",
    "cont = plt.contourf(x, y, some_data(0), cvals)    # first image on screen\n",
    "cb = plt.colorbar();\n",
    "\n",
    "# animation function\n",
    "def animate(i):\n",
    "    global cont\n",
    "    z = some_data(i)\n",
    "    for c in cont.collections:\n",
    "        c.remove()  # removes only the contours, leaves the rest intact\n",
    "    cont = plt.contourf(x, y, z, cvals)\n",
    "    plt.title('t = %i:  %.2f' % (i,z[5,5]))\n",
    "    return cont\n",
    "\n",
    "anim = animation.FuncAnimation(fig, animate, frames=Nt, blit=True, repeat=True);"
   ]
  },
  {
   "cell_type": "code",
   "execution_count": null,
   "metadata": {},
   "outputs": [],
   "source": []
  }
 ],
 "metadata": {
  "kernelspec": {
   "display_name": "Python 3",
   "language": "python",
   "name": "python3"
  },
  "language_info": {
   "codemirror_mode": {
    "name": "ipython",
    "version": 3
   },
   "file_extension": ".py",
   "mimetype": "text/x-python",
   "name": "python",
   "nbconvert_exporter": "python",
   "pygments_lexer": "ipython3",
   "version": "3.7.4"
  }
 },
 "nbformat": 4,
 "nbformat_minor": 2
}

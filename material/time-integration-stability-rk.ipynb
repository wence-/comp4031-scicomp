{
 "cells": [
  {
   "cell_type": "markdown",
   "metadata": {},
   "source": [
    "# Stability of timestepping schemes\n",
    "\n",
    "You already saw in CMIII that for some problems if we make the timestep too large in the forward Euler method, we don't get a valid solution. Why is that?\n",
    "\n",
    "To answer this, we consider the behaviour of the integrator on a linear test problem, the *Dahlquist test equation*:\n",
    "\n",
    "$$\n",
    "\\dot u = \\lambda u \\quad \\lambda \\in \\mathbb{C}.\n",
    "$$\n",
    "\n",
    "When taking a step of length $h$, this equation has the exact solution\n",
    "\n",
    "$$\n",
    "u(h) = u_0 e^{\\overbrace{\\lambda h}^z} = u_0 e^{\\mathfrak{R} z}(\\cos \\mathfrak{I} z + i\\sin\\mathfrak{I} z),\n",
    "$$\n",
    "where we wrote $\\mathbb{C} \\ni z = \\lambda h$.\n",
    "\n",
    "This problem is _physically_ stable whenever the real part of $z$ (and hence $\\lambda$) is less than zero: $\\mathfrak{R} z \\le 0$.\n",
    "\n",
    "### Aside\n",
    "\n",
    "There is also theory surrounding _nonlinear_ stability, but we will not cover it in this course.\n",
    "\n",
    "## Stability regions\n",
    "\n",
    "Let us now consider applying the timestepping schemes we've already encountered to the test equation to see how they behave.\n",
    "\n",
    "### Explicit Euler\n",
    "\n",
    "$$\n",
    "u(h) = \\underbrace{(1 + \\lambda h)}_{R(z)}u_0.\n",
    "$$\n",
    "\n",
    "Repeated application of the scheme results in:\n",
    "\n",
    "$$\n",
    "u(mh) = R(z)^m u_0.\n",
    "$$\n",
    "\n",
    "This scheme is convergent (producing a bounded $u(mh)$ in the limit $m \\to \\infty$) only if\n",
    "\n",
    "$$\n",
    "|R(z)| \\le 1.\n",
    "$$\n",
    "\n",
    "### Implicit Euler\n",
    "\n",
    "Performing a similar calculation we obtain\n",
    "\n",
    "$$\n",
    "R(z) = \\frac{1}{1 - z}.\n",
    "$$\n",
    "\n",
    "### Trapezoidal rule/implicit midpoint\n",
    "\n",
    "$$\n",
    "R(z) = \\frac{1 + z/2}{1 - z/2}.\n",
    "$$\n",
    "\n",
    "### Definitions\n",
    "The function $R(z)$ is called the *stability function* of the method, the set\n",
    "\n",
    "$$\n",
    "S = \\{ z \\in \\mathbb{C} \\colon |R(z)| \\le 1 \\}\n",
    "$$\n",
    "\n",
    "is called the *stability domain*.\n",
    "\n",
    "## Stability plots\n",
    "\n",
    "Visualising the stability domains, by plotting $|R(z)|$ is an insightful way of comparing methods:"
   ]
  },
  {
   "cell_type": "code",
   "execution_count": null,
   "metadata": {},
   "outputs": [],
   "source": [
    "%matplotlib notebook\n",
    "from matplotlib import pyplot\n",
    "import numpy\n",
    "\n",
    "def plot_stability(x, y, R, label):\n",
    "    pyplot.figure()\n",
    "    C = pyplot.contourf(x, y, numpy.abs(R), numpy.linspace(0, 1, 10), cmap=pyplot.cm.coolwarm)\n",
    "    \n",
    "    pyplot.colorbar(C, ticks=numpy.linspace(0, 1, 10))\n",
    "    pyplot.contour(x, y, numpy.abs(Rz), numpy.linspace(0, 1,4), colors='k')\n",
    "    pyplot.title(label)"
   ]
  },
  {
   "cell_type": "code",
   "execution_count": null,
   "metadata": {},
   "outputs": [],
   "source": [
    "x = numpy.linspace(-3, 3)\n",
    "x, y = numpy.meshgrid(x, x)\n",
    "z = x + 1j*y\n",
    "\n",
    "Rs = [(\"Forward Euler\", 1 + z),\n",
    "      (\"Backward Euler\", 1/(1 - z)),\n",
    "      (\"Implicit Midpoint\", (1 + z/2)/(1 - z/2))]\n",
    "\n",
    "for label, Rz in Rs:\n",
    "    plot_stability(x, y, Rz, label)"
   ]
  },
  {
   "cell_type": "markdown",
   "metadata": {},
   "source": [
    "### Observations\n",
    "\n",
    "While the physical problem is stable whenever $\\mathfrak{R} \\lambda \\le 0$, the same is not true of all our methods. The explicit Euler method is only stable in a small region of the left half plane, implicit Euler is stable in the entire left half plane, and more, implicit midpoint is stable in exactly the left half plane.\n",
    "\n",
    "A question naturally arises? Why would one ever use an explicit method? Can you think of any reasons?"
   ]
  },
  {
   "cell_type": "markdown",
   "metadata": {},
   "source": [
    "## Definitions\n",
    "\n",
    "### A-stability\n",
    "\n",
    "A method is _A-stable_ if the stability domain\n",
    "\n",
    "$$\n",
    "S = \\{z \\in \\mathbb{C} \\colon |R(z)| \\le 1\\}\n",
    "$$\n",
    "\n",
    "contains the _entire_ left half plane\n",
    "\n",
    "$$\n",
    "\\mathfrak{R} z \\le 0.\n",
    "$$\n",
    "\n",
    "This means that we can take arbitrarily large timesteps ($h \\to \\infty$) without the method becoming unstable (diverging) for any problem that is physically stable. Note that this says nothing about the _accuracy_ of the method.\n",
    "\n",
    "### Questions\n",
    "\n",
    "1. Show that the midpoint method and implicit Euler really do contain the entire left half plane. Hint: multiply through by an appropriate choice of $1$, write $z = a + bi$ and show that $|R(z)| \\le 1$ whenever $a \\le 0$."
   ]
  },
  {
   "cell_type": "markdown",
   "metadata": {},
   "source": [
    "## Higher order methods\n",
    "\n",
    "So far, we've seen the implicit and explicit Euler methods which are only first order accurate, and the implicit midpoint method which is second order accurate. We might, especially if we have an accurate spatial discretisation, want more accuracy in our time integrator. We will now look at some methods that offer this."
   ]
  },
  {
   "cell_type": "code",
   "execution_count": null,
   "metadata": {},
   "outputs": [],
   "source": []
  }
 ],
 "metadata": {
  "kernelspec": {
   "display_name": "Python 3",
   "language": "python",
   "name": "python3"
  },
  "language_info": {
   "codemirror_mode": {
    "name": "ipython",
    "version": 3
   },
   "file_extension": ".py",
   "mimetype": "text/x-python",
   "name": "python",
   "nbconvert_exporter": "python",
   "pygments_lexer": "ipython3",
   "version": "3.6.7"
  }
 },
 "nbformat": 4,
 "nbformat_minor": 2
}
